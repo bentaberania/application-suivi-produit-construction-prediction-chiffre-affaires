{
 "cells": [
  {
   "cell_type": "code",
   "execution_count": 30,
   "id": "13a86bca-9fda-46cf-b628-8c5f3e45f352",
   "metadata": {},
   "outputs": [
    {
     "name": "stdout",
     "output_type": "stream",
     "text": [
      "       datetime  temperature  humidite  precipitation\n",
      "0    2021-04-30         12.1      76.2          0.000\n",
      "1    2021-05-01         11.5      81.1          0.042\n",
      "2    2021-05-02         12.0      80.6          0.000\n",
      "3    2021-05-03         12.3      81.7          0.000\n",
      "4    2021-05-04         14.1      74.8          0.000\n",
      "..          ...          ...       ...            ...\n",
      "995  2024-01-20         13.8      71.1          0.107\n",
      "996  2024-01-21         13.6      68.9          1.028\n",
      "997  2024-01-22         13.9      66.5          0.000\n",
      "998  2024-01-23         14.0      66.4          0.000\n",
      "999  2024-01-24         13.9      68.1          0.000\n",
      "\n",
      "[1000 rows x 4 columns]\n"
     ]
    }
   ],
   "source": [
    "import pandas as pd\n",
    "\n",
    "df = pd.read_csv('weather.csv')\n",
    "\n",
    "df.drop(columns=['tempmax', 'tempmin', 'feelslikemax', 'feelslikemin', 'feelslike', 'dew', 'precipprob', 'precipcover', 'preciptype', 'snow', 'snowdepth', 'windgust', 'windspeed', 'winddir', 'sealevelpressure', 'cloudcover', 'visibility', 'solarradiation', 'solarenergy', 'uvindex', 'severerisk', 'sunrise', 'sunset', 'moonphase', 'conditions', 'description', 'icon', 'stations'], inplace=True)\n",
    "\n",
    "df.rename(columns={'temp': 'temperature', 'humidity': 'humidite', 'precip': 'precipitation'}, inplace=True)\n",
    "\n",
    "df = df.iloc[1000:]\n",
    "\n",
    "df.reset_index(drop=True, inplace=True)\n",
    "\n",
    "num_rows = len(df)\n",
    "\n",
    "new_start_date = pd.Timestamp('2021-04-30')\n",
    "new_end_date = pd.Timestamp('2024-04-30')\n",
    "\n",
    "# Créer un range de dates équidistantes sur la période\n",
    "date_range = pd.date_range(start=new_start_date, end=new_end_date)\n",
    "\n",
    "# Assurer que nous ne prenons que les 1000 premières dates\n",
    "if len(date_range) >= num_rows:\n",
    "    new_dates = date_range[:num_rows]\n",
    "else:\n",
    "    raise ValueError(\"La plage de dates générée est insuffisante pour couvrir 1000 lignes.\")\n",
    "\n",
    "# Assigner ces nouvelles dates à la colonne datetime et enlever l'heure\n",
    "df['datetime'] = new_dates.date\n",
    "\n",
    "print(df)\n",
    "\n"
   ]
  },
  {
   "cell_type": "code",
   "execution_count": 31,
   "id": "bfd8821c-bfd4-4cf0-a56a-75d504a30855",
   "metadata": {},
   "outputs": [],
   "source": [
    "df.to_csv(\"meteo.csv\", index=False)"
   ]
  },
  {
   "cell_type": "code",
   "execution_count": null,
   "id": "625c8446-56a9-417a-a37f-2962a4b135f6",
   "metadata": {},
   "outputs": [],
   "source": []
  }
 ],
 "metadata": {
  "kernelspec": {
   "display_name": "Python 3 (ipykernel)",
   "language": "python",
   "name": "python3"
  },
  "language_info": {
   "codemirror_mode": {
    "name": "ipython",
    "version": 3
   },
   "file_extension": ".py",
   "mimetype": "text/x-python",
   "name": "python",
   "nbconvert_exporter": "python",
   "pygments_lexer": "ipython3",
   "version": "3.11.7"
  }
 },
 "nbformat": 4,
 "nbformat_minor": 5
}
